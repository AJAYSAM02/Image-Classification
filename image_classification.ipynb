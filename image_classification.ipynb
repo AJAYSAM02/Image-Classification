{
  "nbformat": 4,
  "nbformat_minor": 0,
  "metadata": {
    "colab": {
      "name": "image classification.ipynb",
      "provenance": []
    },
    "kernelspec": {
      "name": "python3",
      "display_name": "Python 3"
    },
    "language_info": {
      "name": "python"
    }
  },
  "cells": [
    {
      "cell_type": "markdown",
      "metadata": {
        "id": "mghqeIfBJujd"
      },
      "source": [
        "#LOAD DATASET\n"
      ]
    },
    {
      "cell_type": "code",
      "metadata": {
        "id": "7e0vfw72GAOb"
      },
      "source": [
        "import keras"
      ],
      "execution_count": 1,
      "outputs": []
    },
    {
      "cell_type": "code",
      "metadata": {
        "id": "RU77-tyhGqLO"
      },
      "source": [
        "from keras.datasets import cifar10\n",
        "import matplotlib.pyplot as plt\n",
        " \n",
        "(train_X,train_Y),(test_X,test_Y)=cifar10.load_data()"
      ],
      "execution_count": 2,
      "outputs": []
    },
    {
      "cell_type": "code",
      "metadata": {
        "id": "xiKSJA3mJqLY"
      },
      "source": [
        "# Visulaizing Dataset"
      ],
      "execution_count": 3,
      "outputs": []
    },
    {
      "cell_type": "code",
      "metadata": {
        "colab": {
          "base_uri": "https://localhost:8080/",
          "height": 401
        },
        "id": "zIjKyQibJ2MH",
        "outputId": "9ac1ab2c-2f00-4d8f-c0fc-0676e6bfabe3"
      },
      "source": [
        "n=4\n",
        "plt.figure(figsize=(20,10))\n",
        "for i in range(n):\n",
        "    plt.subplot(330+1+i)\n",
        "    plt.imshow(train_X[i])\n",
        "plt.show()"
      ],
      "execution_count": 4,
      "outputs": [
        {
          "output_type": "display_data",
          "data": {
            "image/png": "[encoded data removed]",
            "text/plain": [
              "<Figure size 1440x720 with 4 Axes>"
            ]
          },
          "metadata": {
            "needs_background": "light"
          }
        }
      ]
    },
    {
      "cell_type": "markdown",
      "metadata": {
        "id": "Oqg3JUmfKYkY"
      },
      "source": [
        "#importing required modules and layers\n"
      ]
    },
    {
      "cell_type": "code",
      "metadata": {
        "id": "lC3gK4DzKdlv"
      },
      "source": [
        "from keras.models import Sequential\n",
        "from keras.layers import Dense\n",
        "from keras.layers import Dropout\n",
        "from keras.layers import Flatten\n",
        "from keras.constraints import maxnorm\n",
        "from tensorflow.keras.optimizers import SGD\n",
        "from keras.layers.convolutional import Conv2D\n",
        "from keras.layers.convolutional import MaxPooling2D\n",
        "from keras.utils import np_utils"
      ],
      "execution_count": 7,
      "outputs": []
    },
    {
      "cell_type": "code",
      "metadata": {
        "id": "PTZhYPgnK3PF"
      },
      "source": [
        "#normalize the dataset"
      ],
      "execution_count": 8,
      "outputs": []
    },
    {
      "cell_type": "code",
      "metadata": {
        "id": "t5mPUd7yLM4w"
      },
      "source": [
        "train_x=train_X.astype('float32')\n",
        "test_X=test_X.astype('float32')\n",
        " \n",
        "train_X=train_X/255.0\n",
        "test_X=test_X/255.0"
      ],
      "execution_count": 9,
      "outputs": []
    },
    {
      "cell_type": "code",
      "metadata": {
        "id": "HL5gzAxNLOxf"
      },
      "source": [
        "# one-hot encoding for target classes"
      ],
      "execution_count": 10,
      "outputs": []
    },
    {
      "cell_type": "code",
      "metadata": {
        "id": "jSMI-TPYLTm5"
      },
      "source": [
        "train_Y=np_utils.to_categorical(train_Y)\n",
        "test_Y=np_utils.to_categorical(test_Y)\n",
        " \n",
        "num_classes=test_Y.shape[1]"
      ],
      "execution_count": 11,
      "outputs": []
    },
    {
      "cell_type": "code",
      "metadata": {
        "id": "mzlvr6FKLW5G"
      },
      "source": [
        "#Creating sequential model and adding layers"
      ],
      "execution_count": 12,
      "outputs": []
    },
    {
      "cell_type": "code",
      "metadata": {
        "id": "9ecSinDGLcjG"
      },
      "source": [
        "model=Sequential()\n",
        "model.add(Conv2D(32,(3,3),input_shape=(32,32,3),\n",
        "    padding='same',activation='relu',\n",
        "    kernel_constraint=maxnorm(3)))\n",
        "model.add(Dropout(0.2))\n",
        "model.add(Conv2D(32,(3,3),activation='relu',padding='same',kernel_constraint=maxnorm(3)))\n",
        "model.add(MaxPooling2D(pool_size=(2,2)))\n",
        "model.add(Flatten())\n",
        "model.add(Dense(512,activation='relu',kernel_constraint=maxnorm(3)))\n",
        "model.add(Dropout(0.5))\n",
        "model.add(Dense(num_classes, activation='softmax'))"
      ],
      "execution_count": 13,
      "outputs": []
    },
    {
      "cell_type": "code",
      "metadata": {
        "id": "j13xF2WXLjod"
      },
      "source": [
        "#optimizing and compiling the model"
      ],
      "execution_count": 14,
      "outputs": []
    },
    {
      "cell_type": "code",
      "metadata": {
        "id": "bAFowDSmLrDj"
      },
      "source": [
        "sgd=SGD(learning_rate=0.01,momentum=0.9,decay=(0.01/25),nesterov=False)\n",
        " \n",
        "model.compile(loss='categorical_crossentropy',\n",
        "  optimizer=sgd,\n",
        "  metrics=['accuracy'])"
      ],
      "execution_count": 17,
      "outputs": []
    },
    {
      "cell_type": "code",
      "metadata": {
        "colab": {
          "base_uri": "https://localhost:8080/"
        },
        "id": "8b5aWXIgL2gN",
        "outputId": "abb37a5d-d015-4dce-866b-f6608887dd25"
      },
      "source": [
        "model.summary()"
      ],
      "execution_count": 18,
      "outputs": [
        {
          "output_type": "stream",
          "name": "stdout",
          "text": [
            "Model: \"sequential\"\n",
            "_________________________________________________________________\n",
            "Layer (type)                 Output Shape              Param #   \n",
            "=================================================================\n",
            "conv2d (Conv2D)              (None, 32, 32, 32)        896       \n",
            "_________________________________________________________________\n",
            "dropout (Dropout)            (None, 32, 32, 32)        0         \n",
            "_________________________________________________________________\n",
            "conv2d_1 (Conv2D)            (None, 32, 32, 32)        9248      \n",
            "_________________________________________________________________\n",
            "max_pooling2d (MaxPooling2D) (None, 16, 16, 32)        0         \n",
            "_________________________________________________________________\n",
            "flatten (Flatten)            (None, 8192)              0         \n",
            "_________________________________________________________________\n",
            "dense (Dense)                (None, 512)               4194816   \n",
            "_________________________________________________________________\n",
            "dropout_1 (Dropout)          (None, 512)               0         \n",
            "_________________________________________________________________\n",
            "dense_1 (Dense)              (None, 10)                5130      \n",
            "=================================================================\n",
            "Total params: 4,210,090\n",
            "Trainable params: 4,210,090\n",
            "Non-trainable params: 0\n",
            "_________________________________________________________________\n"
          ]
        }
      ]
    },
    {
      "cell_type": "code",
      "metadata": {
        "id": "9ezQWCCEL7Wi"
      },
      "source": [
        "# Training the model"
      ],
      "execution_count": 19,
      "outputs": []
    },
    {
      "cell_type": "code",
      "metadata": {
        "colab": {
          "base_uri": "https://localhost:8080/"
        },
        "id": "VmueKF_qMAfh",
        "outputId": "1446cb03-a8be-4a83-8f1f-ff392a0616f6"
      },
      "source": [
        "model.fit(train_X,train_Y,\n",
        "    validation_data=(test_X,test_Y),\n",
        "    epochs=10,batch_size=32)"
      ],
      "execution_count": 20,
      "outputs": [
        {
          "output_type": "stream",
          "name": "stdout",
          "text": [
            "Epoch 1/10\n",
            "1563/1563 [==============================] - 156s 99ms/step - loss: 1.7007 - accuracy: 0.3855 - val_loss: 1.3776 - val_accuracy: 0.5054\n",
            "Epoch 2/10\n",
            "1563/1563 [==============================] - 158s 101ms/step - loss: 1.3217 - accuracy: 0.5245 - val_loss: 1.1689 - val_accuracy: 0.5831\n",
            "Epoch 3/10\n",
            "1563/1563 [==============================] - 158s 101ms/step - loss: 1.1533 - accuracy: 0.5890 - val_loss: 1.1095 - val_accuracy: 0.6020\n",
            "Epoch 4/10\n",
            "1563/1563 [==============================] - 158s 101ms/step - loss: 1.0405 - accuracy: 0.6292 - val_loss: 1.0268 - val_accuracy: 0.6377\n",
            "Epoch 5/10\n",
            "1563/1563 [==============================] - 158s 101ms/step - loss: 0.9444 - accuracy: 0.6654 - val_loss: 1.0074 - val_accuracy: 0.6432\n",
            "Epoch 6/10\n",
            "1563/1563 [==============================] - 158s 101ms/step - loss: 0.8694 - accuracy: 0.6937 - val_loss: 0.9528 - val_accuracy: 0.6593\n",
            "Epoch 7/10\n",
            "1563/1563 [==============================] - 159s 101ms/step - loss: 0.7956 - accuracy: 0.7167 - val_loss: 0.9356 - val_accuracy: 0.6736\n",
            "Epoch 8/10\n",
            "1563/1563 [==============================] - 159s 102ms/step - loss: 0.7312 - accuracy: 0.7402 - val_loss: 0.9157 - val_accuracy: 0.6778\n",
            "Epoch 9/10\n",
            "1563/1563 [==============================] - 159s 102ms/step - loss: 0.6795 - accuracy: 0.7588 - val_loss: 0.9219 - val_accuracy: 0.6774\n",
            "Epoch 10/10\n",
            "1563/1563 [==============================] - 159s 102ms/step - loss: 0.6291 - accuracy: 0.7776 - val_loss: 0.9158 - val_accuracy: 0.6854\n"
          ]
        },
        {
          "output_type": "execute_result",
          "data": {
            "text/plain": [
              "<keras.callbacks.History at 0x7f779371ccd0>"
            ]
          },
          "metadata": {},
          "execution_count": 20
        }
      ]
    },
    {
      "cell_type": "code",
      "metadata": {
        "id": "jYwRGC6PSNPh"
      },
      "source": [
        "model.save(\"model1_cifar_10epoch.h5\")"
      ],
      "execution_count": 23,
      "outputs": []
    },
    {
      "cell_type": "markdown",
      "metadata": {
        "id": "htqIG01TSnq3"
      },
      "source": [
        "#dictionary to map to the output classes"
      ]
    },
    {
      "cell_type": "code",
      "metadata": {
        "id": "whd22CSySQFj"
      },
      "source": [
        "results={\n",
        "   0:'aeroplane',\n",
        "   1:'automobile',\n",
        "   2:'bird',\n",
        "   3:'cat',\n",
        "   4:'deer',\n",
        "   5:'dog',\n",
        "   6:'frog',\n",
        "   7:'horse',\n",
        "   8:'ship',\n",
        "   9:'truck'\n",
        "}"
      ],
      "execution_count": 24,
      "outputs": []
    },
    {
      "cell_type": "code",
      "metadata": {
        "id": "GWRhFX1gSrLi"
      },
      "source": [
        "#make predictions"
      ],
      "execution_count": 25,
      "outputs": []
    },
    {
      "cell_type": "code",
      "metadata": {
        "id": "kgc76g8EV084"
      },
      "source": [
        ""
      ],
      "execution_count": null,
      "outputs": []
    },
    {
      "cell_type": "code",
      "metadata": {
        "id": "WZtobxvQSvPg"
      },
      "source": [
        "from PIL import Image\n",
        "import numpy as np\n",
        "im=Image.open(\"horse.jpg\") \n",
        "im=im.resize((32,32))\n",
        "im=np.expand_dims(im,axis=0)\n",
        "im=np.array(im)\n",
        "pred=model.predict_classes([im])[0]\n",
        "print(pred,results[pred]"
      ],
      "execution_count": null,
      "outputs": []
    },
    {
      "cell_type": "code",
      "metadata": {
        "colab": {
          "base_uri": "https://localhost:8080/",
          "height": 128
        },
        "id": "1eLrdvRIWAgR",
        "outputId": "75d79e2f-ada1-4e0c-901e-64e594c035ee"
      },
      "source": [
        ""
      ],
      "execution_count": 36,
      "outputs": [
        {
          "output_type": "error",
          "ename": "SyntaxError",
          "evalue": "ignored",
          "traceback": [
            "\u001b[0;36m  File \u001b[0;32m\"<ipython-input-36-e5ae80fd42c1>\"\u001b[0;36m, line \u001b[0;32m1\u001b[0m\n\u001b[0;31m    sudo apt-get install python3-tk\u001b[0m\n\u001b[0m           ^\u001b[0m\n\u001b[0;31mSyntaxError\u001b[0m\u001b[0;31m:\u001b[0m invalid syntax\n"
          ]
        }
      ]
    }
  ]
}